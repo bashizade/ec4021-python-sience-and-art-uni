{
 "cells": [
  {
   "cell_type": "code",
   "execution_count": 13,
   "metadata": {},
   "outputs": [
    {
     "name": "stdout",
     "output_type": "stream",
     "text": [
      "amirhosein bashizade wallet balance is : 700\n"
     ]
    }
   ],
   "source": [
    "#create bank class and add three methods (balance,deposit,withdraw) for users list\n",
    "class Bank:\n",
    "    users = [\n",
    "        {\n",
    "            \"id\": 1,\n",
    "            \"firstName\":\"amirhosein\",\n",
    "            \"lastName\":\"bashizade\",\n",
    "            \"Balance\": 0\n",
    "        },\n",
    "        {\n",
    "            \"id\": 2,\n",
    "            \"firstName\":\"reza\",\n",
    "            \"lastName\":\"rasti\",\n",
    "            \"Balance\": 0\n",
    "        },\n",
    "        {\n",
    "            \"id\": 3,\n",
    "            \"firstName\":\"mohammad\",\n",
    "            \"lastName\":\"torki\",\n",
    "            \"Balance\": 0\n",
    "        }\n",
    "    ]\n",
    "\n",
    "    def __init__(self,userId) -> None:\n",
    "        self.userId = userId\n",
    "\n",
    "    def Balance(self) -> float:\n",
    "        for user in self.users:\n",
    "            if user[\"id\"] == self.userId:\n",
    "                return user[\"Balance\"]\n",
    "            \n",
    "    def Deposit(self,count) -> float:\n",
    "        for user in self.users:\n",
    "            if user[\"id\"] == self.userId:\n",
    "                user[\"Balance\"] = count\n",
    "\n",
    "    def Withdraw(self,count) -> float:\n",
    "        for user in self.users:\n",
    "            if user[\"id\"] == self.userId:\n",
    "                user[\"Balance\"] = user[\"Balance\"] - count\n",
    "    \n",
    "    def Information(self) -> dict:\n",
    "        for user in self.users:\n",
    "            if user[\"id\"] == self.userId:\n",
    "                return user\n",
    "\n",
    "userBank = Bank(1);\n",
    "userInfo = userBank.Information()\n",
    "userBank.Deposit(1500)\n",
    "userBank.Withdraw(800)\n",
    "print(f\"{userInfo[\"firstName\"]} {userInfo[\"lastName\"]} wallet balance is : {userBank.Balance()}\")"
   ]
  }
 ],
 "metadata": {
  "kernelspec": {
   "display_name": "Python 3",
   "language": "python",
   "name": "python3"
  },
  "language_info": {
   "codemirror_mode": {
    "name": "ipython",
    "version": 3
   },
   "file_extension": ".py",
   "mimetype": "text/x-python",
   "name": "python",
   "nbconvert_exporter": "python",
   "pygments_lexer": "ipython3",
   "version": "3.12.0"
  }
 },
 "nbformat": 4,
 "nbformat_minor": 2
}
