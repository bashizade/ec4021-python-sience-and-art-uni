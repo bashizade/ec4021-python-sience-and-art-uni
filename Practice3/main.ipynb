{
 "cells": [
  {
   "cell_type": "code",
   "execution_count": 1,
   "metadata": {},
   "outputs": [
    {
     "name": "stderr",
     "output_type": "stream",
     "text": [
      "C:\\Users\\Amir\\AppData\\Local\\Temp\\ipykernel_7672\\1572986230.py:8: MovedIn20Warning: The ``declarative_base()`` function is now available as sqlalchemy.orm.declarative_base(). (deprecated since: 2.0) (Background on SQLAlchemy 2.0 at: https://sqlalche.me/e/b8d9)\n",
      "  Base = declarative_base()\n"
     ]
    }
   ],
   "source": [
    "from sqlalchemy import create_engine\n",
    "from sqlalchemy.ext.declarative import declarative_base\n",
    "from sqlalchemy import Column, Integer, String ,ForeignKey\n",
    "from sqlalchemy.orm import sessionmaker\n",
    "from sqlalchemy.orm import relationship\n",
    "\n",
    "engine = create_engine('mysql+mysqlconnector://root:@localhost/bank', echo=False)\n",
    "Base = declarative_base()\n",
    "\n",
    "class Banks(Base):\n",
    "    __tablename__='banks'\n",
    "    id = Column(Integer,primary_key=True)\n",
    "    name = Column(String(255))\n",
    "    users = relationship(\"Users\",back_populates=\"bank\")\n",
    "\n",
    "class Users(Base):\n",
    "    __tablename__ = 'users'\n",
    "    id = Column(Integer, primary_key=True)\n",
    "    firstName = Column(String(255))\n",
    "    lastName = Column(String(255))\n",
    "    Balance = Column(Integer)\n",
    "    bank_id = Column(Integer,ForeignKey(\"banks.id\"))\n",
    "    bank = relationship(\"Banks\",back_populates=\"users\")\n"
   ]
  },
  {
   "cell_type": "code",
   "execution_count": null,
   "metadata": {},
   "outputs": [],
   "source": [
    "def createTables():\n",
    "    Base.metadata.create_all(engine)\n",
    "\n",
    "createTables()"
   ]
  },
  {
   "cell_type": "code",
   "execution_count": 2,
   "metadata": {},
   "outputs": [],
   "source": [
    "SessionMaker = sessionmaker(bind=engine)\n",
    "session = SessionMaker()"
   ]
  },
  {
   "cell_type": "code",
   "execution_count": 15,
   "metadata": {},
   "outputs": [],
   "source": [
    "#create bank class and add three methods (balance,deposit,withdraw) for users list\n",
    "class Bank:\n",
    "    def createBank(name):\n",
    "        new_bank = Banks(name=name)\n",
    "        session.add(new_bank)\n",
    "        session.commit()\n",
    "\n",
    "    def createUser(firstName,lastName,Balance,bank_id):\n",
    "        new_user1 = Users(firstName=firstName,lastName=lastName,Balance=Balance,bank_id=bank_id)\n",
    "        session.add(new_user1)\n",
    "        session.commit()\n",
    "\n",
    "    def getAllUsers():\n",
    "        users = session.query(Users).all()\n",
    "        for user in users:\n",
    "            print(f\"the user name : {user.firstName} {user.lastName} and bank balance : {user.Balance} from bank : {user.bank.name}\")\n",
    "\n",
    "    def getUserById(userId):\n",
    "        user = session.query(Users).filter(Users.id == userId).all()\n",
    "        print(user)\n",
    "    \n",
    "    def depositToUser(balance,userId):\n",
    "        user = session.query(Users).filter(Users.id == userId).update({Users.Balance: Users.Balance + balance})\n",
    "        print(user)\n",
    "    \n",
    "    def withdrawToUser(balance,userId):\n",
    "        user = session.query(Users).filter(Users.id == userId).update({Users.Balance: Users.Balance - balance})\n",
    "        print(user)"
   ]
  },
  {
   "cell_type": "code",
   "execution_count": 8,
   "metadata": {},
   "outputs": [],
   "source": [
    "Bank = Bank()"
   ]
  },
  {
   "cell_type": "code",
   "execution_count": 12,
   "metadata": {},
   "outputs": [],
   "source": [
    "Bank.createBank(name=\"meli\")"
   ]
  },
  {
   "cell_type": "code",
   "execution_count": 13,
   "metadata": {},
   "outputs": [],
   "source": [
    "Bank.createUser(firstName=\"amir\",lastName=\"bashi\",Balance=0,bank_id=1)"
   ]
  },
  {
   "cell_type": "code",
   "execution_count": 20,
   "metadata": {},
   "outputs": [
    {
     "name": "stdout",
     "output_type": "stream",
     "text": [
      "the user name : amir bashi and bank balance : 100 from bank : meli\n"
     ]
    }
   ],
   "source": [
    "Bank.getAllUsers()"
   ]
  },
  {
   "cell_type": "code",
   "execution_count": null,
   "metadata": {},
   "outputs": [],
   "source": [
    "Bank.getUserById(userId=1)"
   ]
  },
  {
   "cell_type": "code",
   "execution_count": 17,
   "metadata": {},
   "outputs": [
    {
     "name": "stdout",
     "output_type": "stream",
     "text": [
      "1\n"
     ]
    }
   ],
   "source": [
    "Bank.depositToUser(balance=400,userId=1)"
   ]
  },
  {
   "cell_type": "code",
   "execution_count": 19,
   "metadata": {},
   "outputs": [
    {
     "name": "stdout",
     "output_type": "stream",
     "text": [
      "1\n"
     ]
    }
   ],
   "source": [
    "Bank.withdrawToUser(balance=300,userId=1)"
   ]
  }
 ],
 "metadata": {
  "kernelspec": {
   "display_name": ".venv",
   "language": "python",
   "name": "python3"
  },
  "language_info": {
   "codemirror_mode": {
    "name": "ipython",
    "version": 3
   },
   "file_extension": ".py",
   "mimetype": "text/x-python",
   "name": "python",
   "nbconvert_exporter": "python",
   "pygments_lexer": "ipython3",
   "version": "3.12.0"
  }
 },
 "nbformat": 4,
 "nbformat_minor": 2
}
