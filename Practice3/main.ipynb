{
 "cells": [
  {
   "cell_type": "code",
   "execution_count": 1,
   "metadata": {},
   "outputs": [
    {
     "name": "stderr",
     "output_type": "stream",
     "text": [
      "C:\\Users\\Amir\\AppData\\Local\\Temp\\ipykernel_2288\\177698840.py:8: MovedIn20Warning: The ``declarative_base()`` function is now available as sqlalchemy.orm.declarative_base(). (deprecated since: 2.0) (Background on SQLAlchemy 2.0 at: https://sqlalche.me/e/b8d9)\n",
      "  Base = declarative_base()\n"
     ]
    },
    {
     "ename": "NameError",
     "evalue": "name 'back_populates' is not defined",
     "output_type": "error",
     "traceback": [
      "\u001b[1;31m---------------------------------------------------------------------------\u001b[0m",
      "\u001b[1;31mNameError\u001b[0m                                 Traceback (most recent call last)",
      "\u001b[1;32me:\\projects\\ec4021-python\\Practice3\\main.ipynb Cell 1\u001b[0m line \u001b[0;36m1\n\u001b[0;32m      <a href='vscode-notebook-cell:/e%3A/projects/ec4021-python/Practice3/main.ipynb#W0sZmlsZQ%3D%3D?line=6'>7</a>\u001b[0m engine \u001b[39m=\u001b[39m create_engine(\u001b[39m'\u001b[39m\u001b[39mmysql+mysqlconnector://root:@localhost/bank\u001b[39m\u001b[39m'\u001b[39m, echo \u001b[39m=\u001b[39m \u001b[39mTrue\u001b[39;00m)\n\u001b[0;32m      <a href='vscode-notebook-cell:/e%3A/projects/ec4021-python/Practice3/main.ipynb#W0sZmlsZQ%3D%3D?line=7'>8</a>\u001b[0m Base \u001b[39m=\u001b[39m declarative_base()\n\u001b[1;32m---> <a href='vscode-notebook-cell:/e%3A/projects/ec4021-python/Practice3/main.ipynb#W0sZmlsZQ%3D%3D?line=9'>10</a>\u001b[0m \u001b[39mclass\u001b[39;49;00m \u001b[39mBanks\u001b[39;49;00m(Base):\n\u001b[0;32m     <a href='vscode-notebook-cell:/e%3A/projects/ec4021-python/Practice3/main.ipynb#W0sZmlsZQ%3D%3D?line=10'>11</a>\u001b[0m     __tablename__\u001b[39m=\u001b[39;49m\u001b[39m'\u001b[39;49m\u001b[39mbanks\u001b[39;49m\u001b[39m'\u001b[39;49m\n\u001b[0;32m     <a href='vscode-notebook-cell:/e%3A/projects/ec4021-python/Practice3/main.ipynb#W0sZmlsZQ%3D%3D?line=11'>12</a>\u001b[0m     \u001b[39mid\u001b[39;49m \u001b[39m=\u001b[39;49m Column(Integer,primary_key\u001b[39m=\u001b[39;49m\u001b[39mTrue\u001b[39;49;00m)\n",
      "\u001b[1;32me:\\projects\\ec4021-python\\Practice3\\main.ipynb Cell 1\u001b[0m line \u001b[0;36m1\n\u001b[0;32m     <a href='vscode-notebook-cell:/e%3A/projects/ec4021-python/Practice3/main.ipynb#W0sZmlsZQ%3D%3D?line=11'>12</a>\u001b[0m \u001b[39mid\u001b[39m \u001b[39m=\u001b[39m Column(Integer,primary_key\u001b[39m=\u001b[39m\u001b[39mTrue\u001b[39;00m)\n\u001b[0;32m     <a href='vscode-notebook-cell:/e%3A/projects/ec4021-python/Practice3/main.ipynb#W0sZmlsZQ%3D%3D?line=12'>13</a>\u001b[0m name \u001b[39m=\u001b[39m Column(String(\u001b[39m255\u001b[39m))\n\u001b[1;32m---> <a href='vscode-notebook-cell:/e%3A/projects/ec4021-python/Practice3/main.ipynb#W0sZmlsZQ%3D%3D?line=13'>14</a>\u001b[0m users \u001b[39m=\u001b[39m relationship(\u001b[39m\"\u001b[39m\u001b[39mUsers\u001b[39m\u001b[39m\"\u001b[39m,back_populates(\u001b[39m\"\u001b[39m\u001b[39mbank\u001b[39m\u001b[39m\"\u001b[39m))\n",
      "\u001b[1;31mNameError\u001b[0m: name 'back_populates' is not defined"
     ]
    }
   ],
   "source": [
    "from sqlalchemy import create_engine\n",
    "from sqlalchemy.ext.declarative import declarative_base\n",
    "from sqlalchemy import Column, Integer, String ,ForeignKey\n",
    "from sqlalchemy.orm import sessionmaker\n",
    "from sqlalchemy.orm import relationship\n",
    "\n",
    "engine = create_engine('mysql+mysqlconnector://root:@localhost/bank', echo = false)\n",
    "Base = declarative_base()\n",
    "\n",
    "class Banks(Base):\n",
    "    __tablename__='banks'\n",
    "    id = Column(Integer,primary_key=True)\n",
    "    name = Column(String(255))\n",
    "    users = relationship(\"Users\",back_populates(\"bank\"))\n",
    "\n",
    "class Users(Base):\n",
    "    __tablename__ = 'users'\n",
    "    id = Column(Integer, primary_key=True)\n",
    "    firstName = Column(String(255))\n",
    "    lastName = Column(String(255))\n",
    "    Balance = Column(Integer)\n",
    "    bank_id = Column(Integer,ForeignKey(\"bank_id\"))\n",
    "    bank = relationship(\"Banks\",back_populates(\"users\"))\n"
   ]
  },
  {
   "cell_type": "code",
   "execution_count": null,
   "metadata": {},
   "outputs": [],
   "source": [
    "def createTables():\n",
    "    Base.metadata.create_all(engine)\n",
    "\n",
    "createTables()"
   ]
  },
  {
   "cell_type": "code",
   "execution_count": null,
   "metadata": {},
   "outputs": [],
   "source": [
    "SessionMaker = sessionmaker(bind=engine)\n",
    "session = SessionMaker()"
   ]
  },
  {
   "cell_type": "code",
   "execution_count": null,
   "metadata": {},
   "outputs": [],
   "source": [
    "#create bank class and add three methods (balance,deposit,withdraw) for users list\n",
    "class Bank:\n",
    "    def createUser(firstName,lastName,Balance):\n",
    "        new_user1 = Users(firstName=\"amir\",lastName=\"bashi\",Balance=0)\n",
    "        session.add(new_user1)\n",
    "        session.commit()\n",
    "\n",
    "    def getAllUsers():\n",
    "        users = session.query(Users).all()\n",
    "        for user in users:\n",
    "            print(f\"the user name : {user.firstName} {user.lastName} and bank balance : {user.Balance}\")\n",
    "\n",
    "    def getUserById(userId):\n",
    "        user = session.query(Users).filter(Users.id == userId).all()\n",
    "        print(user)\n",
    "    \n",
    "    def depositToUser(balance,userId):\n",
    "        user = session.query(Users).filter(Users.id == userId).update({Users.Balance: Users.Balance + balance})\n",
    "        print(user)\n",
    "    \n",
    "    def withdrawToUser(balance,userId):\n",
    "        user = session.query(Users).filter(Users.id == userId).update({Users.Balance: Users.Balance - balance})\n",
    "        print(user)"
   ]
  },
  {
   "cell_type": "code",
   "execution_count": null,
   "metadata": {},
   "outputs": [],
   "source": [
    "Bank = Bank()"
   ]
  },
  {
   "cell_type": "code",
   "execution_count": null,
   "metadata": {},
   "outputs": [],
   "source": [
    "Bank.createUser(firstName=\"amir\",lastName=\"bashi\",Balance=0)"
   ]
  },
  {
   "cell_type": "code",
   "execution_count": null,
   "metadata": {},
   "outputs": [],
   "source": [
    "Bank.getAllUsers()"
   ]
  },
  {
   "cell_type": "code",
   "execution_count": null,
   "metadata": {},
   "outputs": [],
   "source": [
    "Bank.getUserById(userId=1)"
   ]
  },
  {
   "cell_type": "code",
   "execution_count": null,
   "metadata": {},
   "outputs": [],
   "source": [
    "Bank.depositToUser(balance=400,userId=1)"
   ]
  },
  {
   "cell_type": "code",
   "execution_count": null,
   "metadata": {},
   "outputs": [],
   "source": [
    "Bank.withdrawToUser(balance=300,userId=1)"
   ]
  }
 ],
 "metadata": {
  "kernelspec": {
   "display_name": ".venv",
   "language": "python",
   "name": "python3"
  },
  "language_info": {
   "codemirror_mode": {
    "name": "ipython",
    "version": 3
   },
   "file_extension": ".py",
   "mimetype": "text/x-python",
   "name": "python",
   "nbconvert_exporter": "python",
   "pygments_lexer": "ipython3",
   "version": "3.12.0"
  }
 },
 "nbformat": 4,
 "nbformat_minor": 2
}
