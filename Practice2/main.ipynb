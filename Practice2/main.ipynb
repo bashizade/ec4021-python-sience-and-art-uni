{
 "cells": [
  {
   "cell_type": "code",
   "execution_count": null,
   "metadata": {},
   "outputs": [],
   "source": [
    "from sqlalchemy import create_engine\n",
    "from sqlalchemy.ext.declarative import declarative_base\n",
    "from sqlalchemy import Column, Integer, String\n",
    "from sqlalchemy.orm import sessionmaker\n",
    "\n",
    "engine = create_engine('mysql+mysqlconnector://root:@localhost/bank', echo = True)\n",
    "Base = declarative_base()\n",
    "\n",
    "class Users(Base):\n",
    "    __tablename__ = 'users'\n",
    "    id = Column(Integer, primary_key=True)\n",
    "    firstName = Column(String(255))\n",
    "    lastName = Column(String(255))\n",
    "    Balance = Column(Integer)"
   ]
  },
  {
   "cell_type": "code",
   "execution_count": null,
   "metadata": {},
   "outputs": [],
   "source": [
    "def createTables():\n",
    "    Base.metadata.create_all(engine)\n",
    "\n",
    "createTables()"
   ]
  },
  {
   "cell_type": "code",
   "execution_count": null,
   "metadata": {},
   "outputs": [],
   "source": [
    "SessionMaker = sessionmaker(bind=engine)\n",
    "session = SessionMaker()"
   ]
  },
  {
   "cell_type": "code",
   "execution_count": null,
   "metadata": {},
   "outputs": [],
   "source": [
    "#create bank class and add three methods (balance,deposit,withdraw) for users list\n",
    "class Bank:\n",
    "    def createUser(firstName,lastName,Balance):\n",
    "        new_user1 = Users(firstName=\"amir\",lastName=\"bashi\",Balance=0)\n",
    "        session.add(new_user1)\n",
    "        session.commit()\n",
    "\n",
    "    def getAllUsers():\n",
    "        users = session.query(Users).all()\n",
    "        for user in users:\n",
    "            print(f\"the user name : {user.firstName} {user.lastName} and bank balance : {user.Balance}\")\n",
    "\n",
    "    def getUserById(userId):\n",
    "        user = session.query(Users).filter(Users.id == userId).all()\n",
    "        print(user)\n",
    "    \n",
    "    def depositToUser(balance,userId):\n",
    "        user = session.query(Users).filter(Users.id == userId).update({Users.Balance: Users.Balance + balance})\n",
    "        print(user)\n",
    "    \n",
    "    def withdrawToUser(balance,userId):\n",
    "        user = session.query(Users).filter(Users.id == userId).update({Users.Balance: Users.Balance - balance})\n",
    "        print(user)"
   ]
  },
  {
   "cell_type": "code",
   "execution_count": null,
   "metadata": {},
   "outputs": [],
   "source": [
    "Bank = Bank()"
   ]
  },
  {
   "cell_type": "code",
   "execution_count": null,
   "metadata": {},
   "outputs": [],
   "source": [
    "Bank.createUser(firstName=\"amir\",lastName=\"bashi\",Balance=0)"
   ]
  },
  {
   "cell_type": "code",
   "execution_count": null,
   "metadata": {},
   "outputs": [],
   "source": [
    "Bank.getAllUsers()"
   ]
  },
  {
   "cell_type": "code",
   "execution_count": null,
   "metadata": {},
   "outputs": [],
   "source": [
    "Bank.getUserById(userId=1)"
   ]
  },
  {
   "cell_type": "code",
   "execution_count": null,
   "metadata": {},
   "outputs": [],
   "source": [
    "Bank.depositToUser(balance=400,userId=1)"
   ]
  },
  {
   "cell_type": "code",
   "execution_count": null,
   "metadata": {},
   "outputs": [],
   "source": [
    "Bank.withdrawToUser(balance=300,userId=1)"
   ]
  }
 ],
 "metadata": {
  "kernelspec": {
   "display_name": ".venv",
   "language": "python",
   "name": "python3"
  },
  "language_info": {
   "codemirror_mode": {
    "name": "ipython",
    "version": 3
   },
   "file_extension": ".py",
   "mimetype": "text/x-python",
   "name": "python",
   "nbconvert_exporter": "python",
   "pygments_lexer": "ipython3",
   "version": "3.12.0"
  }
 },
 "nbformat": 4,
 "nbformat_minor": 2
}
